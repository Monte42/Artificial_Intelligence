{
 "cells": [
  {
   "cell_type": "code",
   "execution_count": 1,
   "metadata": {},
   "outputs": [
    {
     "name": "stdout",
     "output_type": "stream",
     "text": [
      "Episode: 1 - Best of the batch: -1000.0\n",
      "Episode: 101 - Best of the batch: -1000.0\n",
      "Episode: 201 - Best of the batch: -1000.0\n",
      "Episode: 301 - Best of the batch: -1000.0\n",
      "Episode: 401 - Best of the batch: -1000.0\n",
      "Episode: 501 - Best of the batch: -1000.0\n",
      "Episode: 601 - Best of the batch: -273.0\n",
      "Episode: 701 - Best of the batch: -501.0\n",
      "Episode: 801 - Best of the batch: -1000.0\n",
      "Episode: 901 - Best of the batch: -473.0\n"
     ]
    }
   ],
   "source": [
    "import gymnasium as gym\n",
    "import numpy as np\n",
    "\n",
    "is_training = True\n",
    "render = False\n",
    "\n",
    "episodes = 1000\n",
    "learning_rate_a = 0.9\n",
    "discount_factor_g = 0.9\n",
    "\n",
    "epsilon = 1\n",
    "epsilon_decay_rate = 2/episodes\n",
    "rng = np.random.default_rng()\n",
    "\n",
    "env = gym.make(\"MountainCar-v0\", render_mode='human' if render else None)\n",
    "# Break POS and Velocity into 20 segments\n",
    "pos_space = np.linspace(env.observation_space.low[0], env.observation_space.high[0], 20) \n",
    "vel_space = np.linspace(env.observation_space.low[1], env.observation_space.high[1], 20)\n",
    "\n",
    "q = np.zeros((len(pos_space), len(vel_space), env.action_space.n))\n",
    "\n",
    "for i in range(episodes):\n",
    "    batch_best = -1001\n",
    "\n",
    "    state = env.reset()[0]\n",
    "    # find segment of agents POS and Velocity\n",
    "    state_p = np.digitize(state[0], pos_space)\n",
    "    state_v = np.digitize(state[1], vel_space)\n",
    "\n",
    "    terminated = False\n",
    "    rewards = 0\n",
    "\n",
    "    while(not terminated and rewards > -1000):\n",
    "        if is_training and rng.random() < epsilon:\n",
    "            action = env.action_space.sample()\n",
    "        else:\n",
    "            action = np.argmax(q[state_p, state_v, :])\n",
    "\n",
    "        new_state,reward,terminated,_,_ = env.step(action)\n",
    "        new_state_p = np.digitize(state[0], pos_space)\n",
    "        new_state_v = np.digitize(state[1], vel_space)\n",
    "\n",
    "        if is_training:\n",
    "            q[state_p, state_v, action] = q[state_p, state_v, action]+learning_rate_a*(\n",
    "                reward+discount_factor_g*np.max(q[new_state_p,new_state_v,:])-q[state_p, state_v, action]\n",
    "            )\n",
    "\n",
    "        state = new_state\n",
    "        state_p = new_state_p\n",
    "        state_v = new_state_v\n",
    "\n",
    "        rewards += reward\n",
    "\n",
    "    epsilon = max(epsilon - epsilon_decay_rate, 0)\n",
    "    \n",
    "    batch_best = max(batch_best, rewards)\n",
    "    if i % 100 == 0:\n",
    "        print(f'Episode: {i+1} - Best of the batch: {batch_best}')\n",
    "        batch_best = -1001\n",
    "env.close()\n",
    "\n"
   ]
  },
  {
   "cell_type": "code",
   "execution_count": 3,
   "metadata": {},
   "outputs": [
    {
     "name": "stdout",
     "output_type": "stream",
     "text": [
      "Episode: 1 - Steps: 231.0\n",
      "Episode: 2 - Steps: 615.0\n",
      "Episode: 3 - Steps: 237.0\n"
     ]
    }
   ],
   "source": [
    "env = gym.make(\"MountainCar-v0\", render_mode='human')\n",
    "\n",
    "# Break POS and Velocity into 20 segments\n",
    "pos_space = np.linspace(env.observation_space.low[0], env.observation_space.high[0], 20) \n",
    "vel_space = np.linspace(env.observation_space.low[1], env.observation_space.high[1], 20)\n",
    "\n",
    "for i in range(3):\n",
    "\n",
    "    state = env.reset()[0]\n",
    "    # find segment of agents POS and Velocity\n",
    "    state_p = np.digitize(state[0], pos_space)\n",
    "    state_v = np.digitize(state[1], vel_space)\n",
    "\n",
    "    terminated = False\n",
    "    rewards = 0\n",
    "\n",
    "    while(not terminated and rewards > -1000):\n",
    "        action = np.argmax(q[state_p, state_v, :])\n",
    "\n",
    "        new_state,reward,terminated,_,_ = env.step(action)\n",
    "        new_state_p = np.digitize(state[0], pos_space)\n",
    "        new_state_v = np.digitize(state[1], vel_space)\n",
    "\n",
    "        state = new_state\n",
    "        state_p = new_state_p\n",
    "        state_v = new_state_v\n",
    "\n",
    "        rewards += reward\n",
    "\n",
    "    epsilon = max(epsilon - epsilon_decay_rate, 0)\n",
    "\n",
    "    print(f'Episode: {i+1} - Steps: {rewards*-1}')\n",
    "\n",
    "env.close()"
   ]
  }
 ],
 "metadata": {
  "kernelspec": {
   "display_name": ".venv",
   "language": "python",
   "name": "python3"
  },
  "language_info": {
   "codemirror_mode": {
    "name": "ipython",
    "version": 3
   },
   "file_extension": ".py",
   "mimetype": "text/x-python",
   "name": "python",
   "nbconvert_exporter": "python",
   "pygments_lexer": "ipython3",
   "version": "3.10.5"
  }
 },
 "nbformat": 4,
 "nbformat_minor": 2
}
