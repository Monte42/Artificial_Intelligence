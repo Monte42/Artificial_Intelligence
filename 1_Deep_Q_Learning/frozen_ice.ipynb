{
 "cells": [
  {
   "cell_type": "code",
   "execution_count": 1,
   "metadata": {},
   "outputs": [],
   "source": [
    "import gymnasium as gym\n",
    "import numpy as np\n",
    "import math"
   ]
  },
  {
   "cell_type": "code",
   "execution_count": 6,
   "metadata": {},
   "outputs": [],
   "source": [
    "is_training = False\n",
    "render = True\n",
    "\n",
    "episodes = 5\n",
    "learning_rate_a = 0.95\n",
    "discount_factor_g = 0.98\n",
    "\n",
    "epsilon = 1\n",
    "epsilon_decay_rate = 2 / episodes\n",
    "rng = np.random.default_rng()"
   ]
  },
  {
   "cell_type": "code",
   "execution_count": 7,
   "metadata": {},
   "outputs": [],
   "source": [
    "env = gym.make('FrozenLake-v1', desc=['SFHH','FFFF','HHFF','GFFH'], map_name=\"4x4\", is_slippery=False, render_mode='human' if render else None)\n",
    "goal = 12"
   ]
  },
  {
   "cell_type": "code",
   "execution_count": 4,
   "metadata": {},
   "outputs": [],
   "source": [
    "q = np.zeros((env.observation_space.n,env.action_space.n))"
   ]
  },
  {
   "cell_type": "code",
   "execution_count": 8,
   "metadata": {},
   "outputs": [
    {
     "name": "stdout",
     "output_type": "stream",
     "text": [
      "Episode 1 won in 7 steps\n",
      "Episode 2 won in 7 steps\n",
      "Episode 3 won in 7 steps\n",
      "Episode 4 won in 7 steps\n",
      "Episode 5 won in 7 steps\n"
     ]
    }
   ],
   "source": [
    "for i in range(episodes):\n",
    "    terminated = False\n",
    "    steps = 0\n",
    "    \n",
    "    state = env.reset()[0]\n",
    "\n",
    "    while(not terminated and steps < 30):\n",
    "        if is_training and rng.random() < epsilon:\n",
    "            action = env.action_space.sample()\n",
    "        else:\n",
    "            action = np.argmax(q[state, :])\n",
    "\n",
    "        new_state,reward,terminated,_,_ = env.step(action)\n",
    "        if terminated and new_state != goal:\n",
    "            reward = -2\n",
    "        elif not terminated:\n",
    "            sx = (new_state % 4) + 1\n",
    "            sy = math.floor(new_state/4)+1\n",
    "            gx = (goal % 4) + 1\n",
    "            gy = math.floor(goal/4)+1\n",
    "            reward = ((sx+gx)/2+(sy+gy)/2)*1e-5\n",
    "\n",
    "        if is_training:\n",
    "            q[state, action] = q[state, action]+learning_rate_a*(\n",
    "                reward+discount_factor_g*np.max(q[new_state,:])-q[state, action]\n",
    "            )\n",
    "\n",
    "        steps += 1\n",
    "\n",
    "        if reward > 0 and terminated: \n",
    "            print(f'Episode {i+1} won in {steps} steps')\n",
    "        elif terminated: \n",
    "            print(f'Episode {i+1} lost  in {steps} steps')\n",
    "\n",
    "        state = new_state\n",
    "    epsilon = max(epsilon - epsilon_decay_rate, 0)\n",
    "env.close()"
   ]
  }
 ],
 "metadata": {
  "kernelspec": {
   "display_name": ".venv",
   "language": "python",
   "name": "python3"
  },
  "language_info": {
   "codemirror_mode": {
    "name": "ipython",
    "version": 3
   },
   "file_extension": ".py",
   "mimetype": "text/x-python",
   "name": "python",
   "nbconvert_exporter": "python",
   "pygments_lexer": "ipython3",
   "version": "3.10.5"
  }
 },
 "nbformat": 4,
 "nbformat_minor": 2
}
