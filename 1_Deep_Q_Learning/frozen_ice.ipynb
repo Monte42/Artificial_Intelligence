{
 "cells": [
  {
   "cell_type": "markdown",
   "metadata": {},
   "source": [
    "# Imports\n",
    "---"
   ]
  },
  {
   "cell_type": "code",
   "execution_count": null,
   "metadata": {},
   "outputs": [],
   "source": [
    "import gymnasium as gym\n",
    "import numpy as np\n",
    "import math"
   ]
  },
  {
   "cell_type": "markdown",
   "metadata": {},
   "source": [
    "# Hyper Variables\n",
    "---"
   ]
  },
  {
   "cell_type": "code",
   "execution_count": null,
   "metadata": {},
   "outputs": [],
   "source": [
    "is_training = True\n",
    "render = False\n",
    "\n",
    "episodes = 500\n",
    "learning_rate_a = 0.95\n",
    "discount_factor_g = 0.98\n",
    "\n",
    "epsilon = 1\n",
    "epsilon_decay_rate = 2 / episodes\n",
    "rng = np.random.default_rng()"
   ]
  },
  {
   "cell_type": "markdown",
   "metadata": {},
   "source": [
    "# Build Environment\n",
    "---"
   ]
  },
  {
   "cell_type": "code",
   "execution_count": null,
   "metadata": {},
   "outputs": [],
   "source": [
    "env = gym.make('FrozenLake-v1', desc=['SFHH','FFFF','HHFF','GFFH'], map_name=\"4x4\", is_slippery=False, render_mode='human' if render else None)\n",
    "goal = 12\n",
    "\n",
    "\n",
    "q = np.zeros((env.observation_space.n,env.action_space.n))"
   ]
  },
  {
   "cell_type": "code",
   "execution_count": 1,
   "metadata": {},
   "outputs": [
    {
     "ename": "NameError",
     "evalue": "name 'generate_random_map' is not defined",
     "output_type": "error",
     "traceback": [
      "\u001b[1;31m---------------------------------------------------------------------------\u001b[0m",
      "\u001b[1;31mNameError\u001b[0m                                 Traceback (most recent call last)",
      "\u001b[1;32mg:\\Documents\\Artificial Intelligence\\1_Deep_Q_Learning\\frozen_ice.ipynb Cell 7\u001b[0m line \u001b[0;36m1\n\u001b[0;32m     <a href='vscode-notebook-cell:/g%3A/Documents/Artificial%20Intelligence/1_Deep_Q_Learning/frozen_ice.ipynb#W0sZmlsZQ%3D%3D?line=12'>13</a>\u001b[0m epsilon_decay_rate \u001b[39m=\u001b[39m \u001b[39m2\u001b[39m \u001b[39m/\u001b[39m episodes\n\u001b[0;32m     <a href='vscode-notebook-cell:/g%3A/Documents/Artificial%20Intelligence/1_Deep_Q_Learning/frozen_ice.ipynb#W0sZmlsZQ%3D%3D?line=13'>14</a>\u001b[0m rng \u001b[39m=\u001b[39m np\u001b[39m.\u001b[39mrandom\u001b[39m.\u001b[39mdefault_rng()\n\u001b[1;32m---> <a href='vscode-notebook-cell:/g%3A/Documents/Artificial%20Intelligence/1_Deep_Q_Learning/frozen_ice.ipynb#W0sZmlsZQ%3D%3D?line=15'>16</a>\u001b[0m env \u001b[39m=\u001b[39m gym\u001b[39m.\u001b[39mmake(\u001b[39m'\u001b[39m\u001b[39mFrozenLake-v1\u001b[39m\u001b[39m'\u001b[39m, desc\u001b[39m=\u001b[39mgenerate_random_map(size\u001b[39m=\u001b[39m\u001b[39m8\u001b[39m), is_slippery\u001b[39m=\u001b[39m\u001b[39mTrue\u001b[39;00m, render_mode\u001b[39m=\u001b[39m\u001b[39m'\u001b[39m\u001b[39mhuman\u001b[39m\u001b[39m'\u001b[39m \u001b[39mif\u001b[39;00m render \u001b[39melse\u001b[39;00m \u001b[39mNone\u001b[39;00m)\n\u001b[0;32m     <a href='vscode-notebook-cell:/g%3A/Documents/Artificial%20Intelligence/1_Deep_Q_Learning/frozen_ice.ipynb#W0sZmlsZQ%3D%3D?line=16'>17</a>\u001b[0m goal \u001b[39m=\u001b[39m \u001b[39m12\u001b[39m\n\u001b[0;32m     <a href='vscode-notebook-cell:/g%3A/Documents/Artificial%20Intelligence/1_Deep_Q_Learning/frozen_ice.ipynb#W0sZmlsZQ%3D%3D?line=19'>20</a>\u001b[0m q \u001b[39m=\u001b[39m np\u001b[39m.\u001b[39mzeros((env\u001b[39m.\u001b[39mobservation_space\u001b[39m.\u001b[39mn,env\u001b[39m.\u001b[39maction_space\u001b[39m.\u001b[39mn))\n",
      "\u001b[1;31mNameError\u001b[0m: name 'generate_random_map' is not defined"
     ]
    }
   ],
   "source": [
    "import gymnasium as gym\n",
    "import numpy as np\n",
    "import math\n",
    "\n",
    "is_training = True\n",
    "render = False\n",
    "\n",
    "episodes = 500\n",
    "learning_rate_a = 0.95\n",
    "discount_factor_g = 0.98\n",
    "\n",
    "epsilon = 1\n",
    "epsilon_decay_rate = 2 / episodes\n",
    "rng = np.random.default_rng()\n",
    "\n",
    "env = gym.make('FrozenLake-v1', desc=['SFHH','FFFF','HHFF','GFFH'], map_name=\"4x4\", is_slippery=False, render_mode='human' if render else None)\n",
    "goal = 12\n",
    "\n",
    "\n",
    "q = np.zeros((env.observation_space.n,env.action_space.n))\n"
   ]
  },
  {
   "cell_type": "code",
   "execution_count": null,
   "metadata": {},
   "outputs": [],
   "source": [
    "render = False\n",
    "env = gym.make('FrozenLake-v1', desc=d, is_slippery=True, render_mode='human' if render else None)\n",
    "\n",
    "for i in range(episodes):\n",
    "    terminated = False\n",
    "    steps = 0\n",
    "    \n",
    "    state = env.reset()[0]\n",
    "\n",
    "    while(not terminated and steps < 60):\n",
    "        if is_training and rng.random() < epsilon:\n",
    "            action = env.action_space.sample()\n",
    "        else:\n",
    "            action = np.argmax(q[state, :])\n",
    "\n",
    "        new_state,reward,terminated,_,_ = env.step(action)\n",
    "        if reward == 1: goal = new_state\n",
    "        if terminated and new_state != goal:\n",
    "            reward = -2\n",
    "        elif not terminated:\n",
    "            sx = (new_state % 4) + 1\n",
    "            sy = math.floor(new_state/4)+1\n",
    "            gx = (goal % 4) + 1\n",
    "            gy = math.floor(goal/4)+1\n",
    "            reward = ((sx+gx)/2+(sy+gy)/2)*1e-5\n",
    "\n",
    "        q[state, action] = q[state, action]+learning_rate_a*(\n",
    "            reward+discount_factor_g*np.max(q[new_state,:])-q[state, action]\n",
    "        )\n",
    "        steps += 1\n",
    "\n",
    "        if reward > 0 and terminated: \n",
    "            print(f'Episode {i} won in {steps} steps')\n",
    "        elif terminated: \n",
    "            print(f'Episode {i} lost  in {steps} steps')\n",
    "\n",
    "        state = new_state\n",
    "    epsilon = max(epsilon - epsilon_decay_rate, 0)\n",
    "env.close()"
   ]
  }
 ],
 "metadata": {
  "kernelspec": {
   "display_name": ".venv",
   "language": "python",
   "name": "python3"
  },
  "language_info": {
   "codemirror_mode": {
    "name": "ipython",
    "version": 3
   },
   "file_extension": ".py",
   "mimetype": "text/x-python",
   "name": "python",
   "nbconvert_exporter": "python",
   "pygments_lexer": "ipython3",
   "version": "3.10.5"
  }
 },
 "nbformat": 4,
 "nbformat_minor": 2
}
