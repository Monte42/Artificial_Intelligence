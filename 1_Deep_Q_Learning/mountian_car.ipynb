{
 "cells": [
  {
   "cell_type": "markdown",
   "metadata": {},
   "source": [
    "# Deep Q Mountain Car\n",
    "---\n",
    "In this game, the agent is an underpowered car.\\\n",
    "It can't generate enough torque to get moving, but not climb the hill.\\\n",
    "The object is for the agent to learn to use both hills and momentum to reach the goal. "
   ]
  },
  {
   "cell_type": "markdown",
   "metadata": {},
   "source": [
    "### Pip Requirements\n",
    "```\n",
    "pip install gymnasium torch numpy torchmetrics\n",
    "```"
   ]
  },
  {
   "cell_type": "markdown",
   "metadata": {},
   "source": [
    "The first thing like always is to install any packages we'll use, if not already installed.\\\n",
    "Two new ones I used here are matplotlib and torchmetrics.\\\n",
    "These were both used to help better visualize our agents results."
   ]
  },
  {
   "cell_type": "markdown",
   "metadata": {},
   "source": [
    "### Imports"
   ]
  },
  {
   "cell_type": "code",
   "execution_count": 1,
   "metadata": {},
   "outputs": [],
   "source": [
    "import random # Used to generate random float values, or make random choices from an array\n",
    "import numpy as np # Used for data conversion, extraction, and manipulation\n",
    "import gymnasium as gym # Provides us an environment and task for the agent\n",
    "import torch # Pytorch\n",
    "import torch.nn as nn # Neural Network, used to build the Network\n",
    "import torch.optim as optim # Provides optimizer function to maximize preformance of the model\n",
    "import torch.nn.functional as F # Gives us .mse_loss, calculate the loss ( diff between Pred and Trag ) and then rectifier function\n",
    "from torchmetrics.classification import MulticlassAccuracy # This compares the predicted probabilities to the target result \n",
    "import matplotlib.pyplot as plt # We use this to plot the loss and accurracy on a graph"
   ]
  },
  {
   "cell_type": "markdown",
   "metadata": {},
   "source": [
    "### Hyper Parameters\n",
    "To Change the way the agent learns make changes in the cell below.\\\n",
    "This will affect the agent and evironment accordingly."
   ]
  },
  {
   "cell_type": "code",
   "execution_count": 2,
   "metadata": {},
   "outputs": [],
   "source": [
    "episodes = 50 # The number of time the agent will play the game\n",
    "\n",
    "capacity = 100000 # The total size of the agents memory 100,000\n",
    "sample_size = 50 # Number experiences used to train the agent per training iteration or EPOCH\n",
    "\n",
    "learning_rate = .000011 # Also known as Alpha, this is used for model optimization and to calculate Q-Values\n",
    "discount_factor = 0.98 # A.K.A. Gamma, when learning, this determins the weight of future Q-values when calculation current Q-value\n",
    "interpolation_parameter = 1e-3 # This determins the weights of both the local and target networks when updating the Target Network.\n",
    "\n",
    "epsilon_start = 1.0 # The probability the agent will experience a random event despite its outcome 1.0 is 100%\n",
    "epsilon_end = 0.1 # This is the final probability for random events\n",
    "epsilon_decay_rate = 1.2 / episodes # This is the amount removed from esilon decrease the random events and increasing the agents involvment."
   ]
  },
  {
   "cell_type": "markdown",
   "metadata": {},
   "source": [
    "### Non Learning Related Variables\n",
    "If you would like to create a new model and not overwrite an existing one, change FILE variable."
   ]
  },
  {
   "cell_type": "code",
   "execution_count": 3,
   "metadata": {},
   "outputs": [],
   "source": [
    "FILE = './models/DQN_mountain_car(x).pth' # The desired path for your saved model\n",
    "\n",
    "loss_hist = [] # Store agents loss history for plotting later\n",
    "acc_hist = [] # Store agents accuracy history for plotting later\n",
    "score_hist = [] # Store agents accuracy history for plotting later"
   ]
  },
  {
   "cell_type": "markdown",
   "metadata": {},
   "source": [
    "### Agents Environment"
   ]
  },
  {
   "cell_type": "code",
   "execution_count": 4,
   "metadata": {},
   "outputs": [],
   "source": [
    "env = gym.make(\"MountainCar-v0\", render_mode=None)\n",
    "\n",
    "state_size = env.observation_space.shape[0] # We call shape on the first element in the observation space to get the number of input features\n",
    "action_size = env.action_space.n # Action space .n will give us the available number of actions, or outputs"
   ]
  },
  {
   "cell_type": "markdown",
   "metadata": {},
   "source": [
    "### Artifical Neural Network\n",
    "Here we can add/remove layers and nerons to the network to alter the preformance of the agent.\\\n",
    "If we add/remove layers, make sure we add/remove them from the forward method also."
   ]
  },
  {
   "cell_type": "code",
   "execution_count": 5,
   "metadata": {},
   "outputs": [],
   "source": [
    "class Network(nn.Module): # Our Network Module will inherit the torch.nn.Module / which gives use prebuilt training tools \n",
    "    def __init__(self, state_size, action_size, seed=42):\n",
    "        super(Network, self).__init__() # nn.Module has multiple parent classes, we pass Network as a param to ensure we inherit all methods correctly\n",
    "        self.seed = seed # Seed is like a set starting point for all the random adjustment the model will make during training (Doesn't have to be 42)\n",
    "        self.fc1 = nn.Linear(state_size, 640) # As we are building an ANN we will use the Linear layers\n",
    "        self.fc2 = nn.Linear(640,1228) # the first argument is the # of neurons in the first layer and the second is the following layers neurons\n",
    "        self.fc3 = nn.Linear(1228,1228) # Note that the first argument matches the second argument of the previous layer\n",
    "        self.fc4 = nn.Linear(1228,640) # This is becuase the are \"fully onnected\" layers\n",
    "        self.fc5 = nn.Linear(640, action_size) # Also see that the state_size and action_size are first and last as the are inputs and ouputs.\n",
    "\n",
    "    def forward(self, state): # This is forward propagation / where we will pass the observation through the model\n",
    "        x = F.relu(self.fc1(state)) # We will pass the observation through every layer\n",
    "        x = F.relu(self.fc2(x)) # Using the Rectifier Activation Fucntion, which basically turns neg outputs to 0\n",
    "        x = F.relu(self.fc3(x))\n",
    "        x = F.relu(self.fc4(x))\n",
    "        return self.fc5(x) # The raw output layer is returned so not to alter the models probablilities"
   ]
  },
  {
   "cell_type": "markdown",
   "metadata": {},
   "source": [
    "### Replay Memory\n",
    "In order for a neural network to learn, we will need large amounts of already existing data containing both input and output values.\\\n",
    "Since in this case the agent will learn from its own experiences, we will need to store each experience for later training."
   ]
  },
  {
   "cell_type": "code",
   "execution_count": 6,
   "metadata": {},
   "outputs": [],
   "source": [
    "class Memory(object):\n",
    "    def __init__(self, capacity):\n",
    "        self.device = torch.device('cuda:0' if torch.cuda.is_available() else \"cpu\") # Checks machine for GPU to storage, otherwise uses cpu\n",
    "        self.capacity = capacity # number of events to store\n",
    "        self.memory = [] # array to store each event\n",
    "\n",
    "    def push(self, event):\n",
    "        self.memory.append(event) # adds event to memory\n",
    "        if len(self.memory) > self.capacity:\n",
    "            del self.memory[0] # deletes oldest memory exceeds allocated size\n",
    "\n",
    "    def sample(self, sample_size):\n",
    "        experiences = random.sample(self.memory, sample_size) # random.sample(list, num_of_els) / grabs random elements from a list\n",
    "        # The next 5 lines puts each element into its own list and converts that list into a torch tensor\n",
    "        states = torch.from_numpy(np.vstack([e[0] for e in experiences if e is not None])).float().to(self.device) # .to(self.device) is\n",
    "        actions = torch.from_numpy(np.vstack([e[1] for e in experiences if e is not None])).long().to(self.device) # placing tensor in the \n",
    "        rewards = torch.from_numpy(np.vstack([e[2] for e in experiences if e is not None])).float().to(self.device) # location determined \n",
    "        next_states = torch.from_numpy(np.vstack([e[3] for e in experiences if e is not None])).float().to(self.device) # above\n",
    "        terminations = torch.from_numpy(np.vstack([e[4] for e in experiences if e is not None]).astype(np.uint8)).float().to(self.device)\n",
    "        # We then return each new tensor, NOTE the order they are returned.  We will unpack this later\n",
    "        return states, next_states, actions, rewards, terminations"
   ]
  },
  {
   "cell_type": "markdown",
   "metadata": {},
   "source": [
    "### Agent"
   ]
  },
  {
   "cell_type": "code",
   "execution_count": 7,
   "metadata": {},
   "outputs": [],
   "source": [
    "class Agent():\n",
    "    def __init__(self, state_size, action_size):\n",
    "        self.device = torch.device(\"cuda:0\" if torch.cuda.is_available else \"cpu\") # set storage location\n",
    "        self.state_size = state_size \n",
    "        self.action_size = action_size\n",
    "        self.local_network = Network(state_size, action_size).to(self.device) # Next 2 lines will initiate the learing models\n",
    "        self.target_network = Network(state_size, action_size).to(self.device) # Local will make preds, target we'll apply Bellmans equations\n",
    "        self.optimizer = optim.Adam(self.local_network.parameters(), lr = learning_rate) # This use wieghts, biases, leanring rate to optimize the model\n",
    "        self.acc = accuracy = MulticlassAccuracy(num_classes=3).to(self.device) # Checks accuracy of local network vs. target network /w Bellmans   \n",
    "        self.memory = Memory(capacity)\n",
    "        self.t_step = 0 # \"Time Step\" counts every time agent commits to an action\n",
    "        self.l_step = 0\n",
    "\n",
    "    def step(self, state, action, reward, next_state, terminated):\n",
    "        self.memory.push((state,action,reward,next_state,terminated)) # Adds a tuple (event) to the agents memory using our Memory.push() method \n",
    "        self.t_step = (self.t_step + 1) % 1000 # Adds 1 to t_step, resets to 0 on every 4th iteration\n",
    "        if self.t_step == 0:\n",
    "            if len(self.memory.memory) > sample_size: # Checks agents memory for sufficent data, can be as small as sample_size\n",
    "                experiences = self.memory.sample(sample_size) # collects random experiences useing Memory.sample()\n",
    "                self.learn(experiences, discount_factor) # Calls the agents learn method, which we define shortly\n",
    "\n",
    "    def act(self, state, epsilon):\n",
    "        st = torch.from_numpy(state).float().unsqueeze(0).to(self.device) # converts state into tensor of float vals, and correct dimensions\n",
    "        self.local_network.eval() # method from nn.Module, applys current model params to the network\n",
    "        with torch.no_grad(): # We wont back propagate when acting, no need for gradient calculations, saves computer memory consumption\n",
    "            action = self.local_network(st) # Pass state through the local network to get the probabilites of the best action\n",
    "        self.local_network.train() # This informs the model that its training / some layers preform differently when training\n",
    "        if random.random() > epsilon: # Gens a random float, if float greater tha epsilon\n",
    "            return np.argmax(action.cpu().data.numpy()) #  return index of action with greatest probablility\n",
    "        else: # Other wise choose a weighted random action based on agents position / help encourage positive first events\n",
    "            if state[1] > 0:\n",
    "                action = random.choices(np.arange(self.action_size),weights=(20,20,60))\n",
    "            else:\n",
    "                action = random.choices(np.arange(self.action_size),weights=(60,20,20))\n",
    "            return action[0]\n",
    "\n",
    "    def learn(self, experiences, discount_factor):\n",
    "        states, next_states, actions, rewards, terminations = experiences # Unpack the experiences \n",
    "        states = self.local_network(states)\n",
    "        next_states = self.target_network(next_states)\n",
    "        next_states = rewards + discount_factor * next_states * (1 - terminations)\n",
    "        next_q_targets = next_states.detach().max(1)[0].unsqueeze(1) # get best action of all next states / TARGET\n",
    "        # q_targets = rewards + discount_factor * next_q_targets * (1 - terminations) # Apply a variation of the Bellmans equation\n",
    "        q_expected = states.gather(1, actions) # get best action of all current states / PREDICTED\n",
    "        loss = F.mse_loss(q_expected, next_q_targets) # mse_loss returns the mean squared error of differences between models\n",
    "        loss.backward() # Uses the loss the update the weights and biases in the network at the end of gradient computations\n",
    "        self.optimizer.step() # Uses the learning rate to update the weights and biases in the network at the end of every step\n",
    "        self.soft_update(self.local_network, self.target_network, interpolation_parameter) # Brings the 2 networks closer together in results\n",
    "        self.l_step = (self.l_step + 1) % 4 # Adds 1 to t_step, resets to 0 on every 4th iteration\n",
    "        if self.l_step == 0:\n",
    "            self.accuracy(loss, states, next_states)\n",
    "\n",
    "    def soft_update(self, local_model, target_model, interpolation_parameter):\n",
    "        # combines the array params of both networks, then iterates over the \"new\" list, and unpacks the values of each \"new\" nested array\n",
    "        for target_param, local_param in zip(target_model.parameters(), local_model.parameters()):\n",
    "            # In the target network we update the params to be equalt to: a small & of the local params PLUS a large % of the target params\n",
    "            target_param.data.copy_(interpolation_parameter * local_param.data + (1.0 - interpolation_parameter) * target_param.data)\n",
    "\n",
    "    def accuracy(self, loss, states, next_states):\n",
    "        accuracy = self.acc(states, torch.max(next_states, dim=1)[1])\n",
    "        loss_hist.append(float(loss))\n",
    "        acc_hist.append(float(accuracy))\n",
    "        print(f'Loss:{loss}\\tAccuracy: {round(float(accuracy)*100)}%')"
   ]
  },
  {
   "cell_type": "markdown",
   "metadata": {},
   "source": [
    "### Initiate Agent\n",
    "Get its own cell to avoid re-initializing agent and dumping its memory.\\\n",
    "Of course if the Agents learning model exceeds the recent best the agents memory will be irrelevant,\\\n",
    "as we will have the parameters on file that model."
   ]
  },
  {
   "cell_type": "code",
   "execution_count": 8,
   "metadata": {},
   "outputs": [],
   "source": [
    "agent = Agent(state_size,action_size)"
   ]
  },
  {
   "cell_type": "markdown",
   "metadata": {},
   "source": [
    "### Training The Agent\n",
    "To see the un-trained agent, play the next cell first."
   ]
  },
  {
   "cell_type": "code",
   "execution_count": 9,
   "metadata": {},
   "outputs": [
    {
     "name": "stdout",
     "output_type": "stream",
     "text": [
      "Loss:0.09329874068498611\tAccuracy: 6%\n",
      "Loss:0.16813109815120697\tAccuracy: 0%\n",
      "Loss:0.09298310428857803\tAccuracy: 0%\n",
      "Loss:0.16219289600849152\tAccuracy: 0%\n",
      "Loss:0.1234714686870575\tAccuracy: 4%\n",
      "Best set // 0.0\n",
      "Loss:0.03756150230765343\tAccuracy: 22%\n",
      "Best set // 0.0\n",
      "Best set // 38.0\n",
      "Best set // 202.0\n",
      "Loss:0.07163595408201218\tAccuracy: 31%\n",
      "Loss:0.08679284155368805\tAccuracy: 33%\n",
      "Loss:0.08596298098564148\tAccuracy: 37%\n",
      "Loss:0.06934117525815964\tAccuracy: 42%\n"
     ]
    }
   ],
   "source": [
    "epsilon = epsilon_start # resent the epsilion the difined value above\n",
    "\n",
    "try: # Checks to see if the above file exists\n",
    "    best_model = torch.load(FILE) # creates a new dict for store the best saved models information / Dose not set current model\n",
    "except: # If file does not exist\n",
    "    best_model = {'best': 0} # Create dict with one key with a value 0\n",
    "\n",
    "for e in range(1, episodes+1): # we do range(1, end+1) for logging reasons\n",
    "    terminated = False # When the game is over the env will return terminated as True\n",
    "    state,_ = env.reset() # .reset will reset the game, return an array with two values, unpack and take 1st val\n",
    "    score = 1000\n",
    "\n",
    "    while(not terminated and score > 0):\n",
    "        action = agent.act(state, epsilon) # As defned returns an int within the action space\n",
    "        next_state, reward, terminated,truncated,_ = env.step(action) # applies action to env, unpacts results\n",
    "        score += reward\n",
    "        if terminated: # While training, we didn't set a set limit, so the game only ends when the agents hits the goal\n",
    "            reward = 10 # give a reward of 10\n",
    "        # NOTE when the agents steps the game issues a reward of -1. This wont help the agent know its pos/vel in relation to the goal\n",
    "        elif next_state[1] > 0: # If agents velocity is a neg val (moving away from goal)\n",
    "            if next_state[0] < 0: # If agents position is less than 50% away from the goal\n",
    "                reward = (next_state[0]*-1)*next_state[1] # Small positive reward\n",
    "        elif next_state[1] < 0 and next_state[0] < 0: # If agent more than 50% away with neg velocity\n",
    "                reward = (next_state[0]*next_state[1])*0.1 # Very small positive reward\n",
    "        else: \n",
    "            reward = reward - next_state[0]*next_state[1] # Negative reward based on position and velocity\n",
    "        agent.step(state, action, reward, next_state, terminated) # push event to memory, learn on every 4th step\n",
    "        state = next_state # set state to the new state for the next iteration\n",
    "    epsilon = max(0.05, epsilon - epsilon_decay_rate) # Adjusts epsilon to decrease random events\n",
    "    # Checks random events are < 10%, accuarcy is > 0 (can't divid by 0), and accuracy is < 1 (100% will affect the effectiveness of the best_model)\n",
    "    if epsilon <= 0.3 and acc_hist[-1] > 0.0 and acc_hist[-1] < 1.0:\n",
    "        loss_acc = (acc_hist[-1]) / loss_hist[-1] # Return lager value when accuracy is high and loss is low\n",
    "        if loss_acc + score > best_model['best']: # Compares this value to our best_model\n",
    "            best_model = {  # Updates best_model dict\n",
    "                'best': loss_acc + score,\n",
    "                'local_network': agent.local_network.state_dict(),\n",
    "                'target_network': agent.target_network.state_dict()\n",
    "            }\n",
    "            torch.save(best_model, FILE) # Saves dict containing model score and params\n",
    "            print(f'Best set // {score}')\n",
    "env.close()"
   ]
  },
  {
   "cell_type": "markdown",
   "metadata": {},
   "source": [
    "### Plotting the results\n",
    "This is really outside the scope of machine learning,\\\n",
    "but it helps to visulaize at which part in the training did the model preform the best."
   ]
  },
  {
   "cell_type": "code",
   "execution_count": 10,
   "metadata": {},
   "outputs": [
    {
     "data": {
      "text/plain": [
       "<matplotlib.legend.Legend at 0x1c10d4a05b0>"
      ]
     },
     "execution_count": 10,
     "metadata": {},
     "output_type": "execute_result"
    },
    {
     "data": {
      "image/png": "[encoded data removed]",
      "text/plain": [
       "<Figure size 500x270 with 1 Axes>"
      ]
     },
     "metadata": {},
     "output_type": "display_data"
    }
   ],
   "source": [
    "plt.figure(figsize=(5, 2.7), layout='constrained')\n",
    "plt.plot(loss_hist, label='loss')\n",
    "plt.plot(acc_hist, label='acc')\n",
    "plt.plot(score_hist, label='score')\n",
    "plt.xlabel('Time Steps')\n",
    "plt.ylabel('...')\n",
    "plt.title(\"Training Results\")\n",
    "plt.legend()"
   ]
  },
  {
   "cell_type": "markdown",
   "metadata": {},
   "source": [
    "### Loading a saved model\n",
    "This section is will set the params of our agent to match out best_model.\\\n",
    "If we intend to run and save a new model, we should update the FILE var above as not to overwrite an existing model.\\\n",
    "There are 4 models on file:\n",
    " - **'./models/DQN_mountain_car.pth'** - *Scores(500-650)*\n",
    " - **'./models/DQN_mountain_car(2).pth'** - *Scores(May not even complete)*\n",
    " - **'./models/DQN_mountain_car(3).pth'** - *Scores(650-800)*\n",
    " - **'./models/DQN_mountain_car(x).pth'** - *The Working File*"
   ]
  },
  {
   "cell_type": "code",
   "execution_count": 15,
   "metadata": {},
   "outputs": [
    {
     "data": {
      "text/plain": [
       "Network(\n",
       "  (fc1): Linear(in_features=2, out_features=640, bias=True)\n",
       "  (fc2): Linear(in_features=640, out_features=1228, bias=True)\n",
       "  (fc3): Linear(in_features=1228, out_features=1228, bias=True)\n",
       "  (fc4): Linear(in_features=1228, out_features=640, bias=True)\n",
       "  (fc5): Linear(in_features=640, out_features=3, bias=True)\n",
       ")"
      ]
     },
     "execution_count": 15,
     "metadata": {},
     "output_type": "execute_result"
    }
   ],
   "source": [
    "agent.local_network.load_state_dict(torch.load(FILE)['local_network'])\n",
    "agent.local_network.eval()\n",
    "agent.target_network.load_state_dict(torch.load(FILE)['target_network'])\n",
    "agent.target_network.eval()"
   ]
  },
  {
   "cell_type": "markdown",
   "metadata": {},
   "source": [
    "### Test Agent And Visualize Results\n",
    "In this section there really isn't much to cover.\n",
    "Just know that all training and learning methods have been removed.\\\n",
    "Only a 10% of a weighted random event remain."
   ]
  },
  {
   "cell_type": "code",
   "execution_count": 16,
   "metadata": {},
   "outputs": [
    {
     "name": "stdout",
     "output_type": "stream",
     "text": [
      "Episode:1\tScore: 723.0\n",
      "Episode:2\tScore: 709.0\n",
      "Episode:3\tScore: 702.0\n",
      "Episode:4\tScore: 789.0\n"
     ]
    }
   ],
   "source": [
    "env = gym.make(\"MountainCar-v0\", render_mode='human') # render_mode='human' will display the environment so we can watch\n",
    "\n",
    "for i in range(1,5):\n",
    "    terminated = False\n",
    "    state,_ = env.reset()\n",
    "    score = 1000\n",
    "\n",
    "    while(not terminated and score > 0):\n",
    "        action = agent.act(state, .01)\n",
    "        next_state, reward, terminated,_,_ = env.step(action)\n",
    "\n",
    "        state = next_state\n",
    "        score += reward\n",
    "    print(f'Episode:{i}\\tScore: {score}')\n",
    "env.close()"
   ]
  }
 ],
 "metadata": {
  "kernelspec": {
   "display_name": ".venv",
   "language": "python",
   "name": "python3"
  },
  "language_info": {
   "codemirror_mode": {
    "name": "ipython",
    "version": 3
   },
   "file_extension": ".py",
   "mimetype": "text/x-python",
   "name": "python",
   "nbconvert_exporter": "python",
   "pygments_lexer": "ipython3",
   "version": "3.10.5"
  }
 },
 "nbformat": 4,
 "nbformat_minor": 2
}
