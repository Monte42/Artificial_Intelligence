{
 "cells": [
  {
   "cell_type": "markdown",
   "metadata": {},
   "source": [
    "### Imports"
   ]
  },
  {
   "cell_type": "code",
   "execution_count": null,
   "metadata": {},
   "outputs": [],
   "source": [
    "import random\n",
    "import numpy as np\n",
    "import gymnasium as gym\n",
    "import torch\n",
    "import torch.nn as nn\n",
    "import torch.optim as optim\n",
    "import torch.nn.functional as F\n",
    "from torchmetrics.classification import BinaryAccuracy"
   ]
  },
  {
   "cell_type": "markdown",
   "metadata": {},
   "source": [
    "### Hyper Parameters"
   ]
  },
  {
   "cell_type": "code",
   "execution_count": null,
   "metadata": {},
   "outputs": [],
   "source": [
    "\n",
    "episodes = 100\n",
    "\n",
    "capacity = 1e4\n",
    "sample_size = 4\n",
    "\n",
    "learning_rate = 0.0001\n",
    "discount_factor = 0.99\n",
    "interpolation_parameter = 1e-3\n",
    "\n",
    "epsilon_start = 1.0\n",
    "epsilon_decay_rate = 1.7 / episodes\n",
    "epsilon_end = 0.05"
   ]
  },
  {
   "cell_type": "markdown",
   "metadata": {},
   "source": [
    "### Agents Environment"
   ]
  },
  {
   "cell_type": "code",
   "execution_count": null,
   "metadata": {},
   "outputs": [],
   "source": [
    "env = gym.make(\"CartPole-v1\", render_mode=None)\n",
    "\n",
    "state_size = env.observation_space.shape[0]\n",
    "action_size = env.action_space.n"
   ]
  },
  {
   "cell_type": "markdown",
   "metadata": {},
   "source": [
    "### Atrificial Neural Network"
   ]
  },
  {
   "cell_type": "code",
   "execution_count": null,
   "metadata": {},
   "outputs": [],
   "source": [
    "class Network(nn.Module):\n",
    "    def __init__(self, state_size, action_size, seed=42):\n",
    "        super(Network, self).__init__()\n",
    "        self.seed = seed\n",
    "        self.fc1 = nn.Linear(state_size,720)\n",
    "        self.fc2 = nn.Linear(720,720)\n",
    "        self.fc3 = nn.Linear(720,720)\n",
    "        self.fc4 = nn.Linear(720,action_size)\n",
    "\n",
    "    def forward(self, state):\n",
    "        x = F.relu(self.fc1(state))\n",
    "        x = F.relu(self.fc2(x))\n",
    "        x = F.relu(self.fc3(x))\n",
    "        return self.fc4(x)"
   ]
  },
  {
   "cell_type": "markdown",
   "metadata": {},
   "source": [
    "### Replay Memory"
   ]
  },
  {
   "cell_type": "code",
   "execution_count": null,
   "metadata": {},
   "outputs": [],
   "source": [
    "class Memory(object):\n",
    "    def __init__(self, capacity):\n",
    "        self.device = torch.device(\"cuda:0\" if torch.cuda.is_available() else \"cpu\")\n",
    "        self.capacity = capacity\n",
    "        self.memory_bank = []\n",
    "\n",
    "    def push(self, event):\n",
    "        self.memory_bank.append(event)\n",
    "        if len(self.memory_bank) > self.capacity:\n",
    "            del self.memory_bank[0]\n",
    "\n",
    "    def sample(self, sample_size):\n",
    "        experiences = random.sample(self.memory_bank, sample_size)\n",
    "        states = torch.from_numpy(np.vstack([e[0] for e in experiences if e is not None])).float().to(self.device)\n",
    "        actions = torch.from_numpy(np.vstack([e[1] for e in experiences if e is not None])).long().to(self.device)\n",
    "        rewards = torch.from_numpy(np.vstack([e[2] for e in experiences if e is not None])).float().to(self.device)\n",
    "        next_states = torch.from_numpy(np.vstack([e[3] for e in experiences if e is not None])).float().to(self.device)\n",
    "        terminations = torch.from_numpy(np.vstack([e[4] for e in experiences if e is not None]).astype(np.uint8)).float().to(self.device)\n",
    "        return states,next_states,actions,rewards,terminations"
   ]
  },
  {
   "cell_type": "markdown",
   "metadata": {},
   "source": [
    "### Agent"
   ]
  },
  {
   "cell_type": "code",
   "execution_count": null,
   "metadata": {},
   "outputs": [],
   "source": [
    "class Agent():\n",
    "    def __init__(self, state_size, action_size):\n",
    "        self.device = torch.device(\"cuda:0\" if torch.cuda.is_available() else \"cpu\")\n",
    "        self.state_size = state_size\n",
    "        self.action_size = action_size\n",
    "        self.local_network = Network(state_size,action_size).to(self.device)\n",
    "        self.target_network = Network(state_size,action_size).to(self.device)\n",
    "        self.optimizer = optim.Adam(self.local_network.parameters(), lr=learning_rate, amsgrad=True)\n",
    "        self.memory = Memory(capacity)\n",
    "        self.t_step = 0\n",
    "\n",
    "    def act(self, state, epsilon):\n",
    "        pole_angle = state[2]\n",
    "        state = torch.from_numpy(state).float().unsqueeze(0).to(self.device)\n",
    "        self.local_network.eval()\n",
    "        with torch.no_grad():\n",
    "            action = self.local_network(state)\n",
    "        self.local_network.train()\n",
    "        if random.random() < epsilon:\n",
    "            return 0 if pole_angle < 0 else 1\n",
    "        else:\n",
    "            return torch.argmax(action).item()\n",
    "\n",
    "    def step(self, state, action, reward, next_state, terminated):\n",
    "        self.memory.push((state,action,reward,next_state,terminated))\n",
    "        self.t_step = (self.t_step + 1) % 4\n",
    "        if self.t_step == 0:\n",
    "            if len(self.memory.memory_bank) > sample_size:\n",
    "                experiences = self.memory.sample(sample_size)\n",
    "                self.learn(experiences, discount_factor)\n",
    "\n",
    "    def learn(self, experiences, discount_factor):\n",
    "        states, next_states, actions, rewards, terminations = experiences\n",
    "        next_q_targets = self.target_network(next_states).detach().max(1)[0].unsqueeze(1)\n",
    "        q_targets = rewards + discount_factor * next_q_targets * (1 - terminations)\n",
    "        q_expected = self.local_network(states).gather(1, actions)\n",
    "        # acc = BinaryAccuracy().to(self.device)\n",
    "        # preds = torch.max(self.local_network(states), dim=1)[1]\n",
    "        # targs = torch.max(self.target_network(next_states), dim=1)[1]\n",
    "        loss = F.mse_loss(q_expected, q_targets)\n",
    "        # print(f'ACC: {acc(preds, targs)*100}%\\tLoss: {loss}')\n",
    "        self.optimizer.step()\n",
    "        self.soft_update(self.local_network, self.target_network, interpolation_parameter)\n",
    "\n",
    "    def soft_update(self, local_model, target_model, interpolation_parameter):\n",
    "        for target_param, local_param in zip(target_model.parameters(), local_model.parameters()):\n",
    "            target_param.data.copy_(interpolation_parameter * local_param.data + (1.0 - interpolation_parameter) * target_param.data)"
   ]
  },
  {
   "cell_type": "markdown",
   "metadata": {},
   "source": [
    "### Initiate Agent"
   ]
  },
  {
   "cell_type": "code",
   "execution_count": null,
   "metadata": {},
   "outputs": [],
   "source": [
    "agent = Agent(state_size, action_size)"
   ]
  },
  {
   "cell_type": "markdown",
   "metadata": {},
   "source": [
    "### Training"
   ]
  },
  {
   "cell_type": "code",
   "execution_count": null,
   "metadata": {},
   "outputs": [],
   "source": [
    "epsilon = epsilon_start\n",
    "best = 0\n",
    "\n",
    "for e in range(1, episodes+1):\n",
    "    terminated = False\n",
    "    state,_ = env.reset()\n",
    "    score = 0\n",
    "    p_angle = state[2]\n",
    "    while(not terminated):\n",
    "        action = agent.act(state, epsilon)\n",
    "        next_state,reward,terminated,_,_ = env.step(action)\n",
    "        score += reward\n",
    "        if p_angle < 0:\n",
    "            if next_state[2] < p_angle:\n",
    "                reward = -.25\n",
    "        elif p_angle > 0:\n",
    "            if next_state[2] > p_angle:\n",
    "                reward = -.25\n",
    "        elif terminated:\n",
    "            reward = -20\n",
    "        agent.step(state, action, reward, next_state, terminated)\n",
    "        state = next_state\n",
    "        p_angle = next_state[2]\n",
    "\n",
    "    epsilon = max(epsilon_end, epsilon - epsilon_decay_rate)\n",
    "    print(f'Episode: {e}\\tBest Score: {score}')\n",
    "\n",
    "# print(f'Best Epoch: {best[0]}, Best Score: {best[1]}')\n",
    "env.close()"
   ]
  },
  {
   "cell_type": "markdown",
   "metadata": {},
   "source": [
    "### Test And Visualize"
   ]
  },
  {
   "cell_type": "code",
   "execution_count": null,
   "metadata": {},
   "outputs": [],
   "source": [
    "env = gym.make(\"CartPole-v1\", render_mode='human')\n",
    "\n",
    "for e in range(1, 6):\n",
    "    terminated = False\n",
    "    state,_ = env.reset()\n",
    "    score = 0\n",
    "    p_angle = state[2]\n",
    "    while(not terminated):\n",
    "        action = agent.act(state, 0.05)\n",
    "        next_state,reward,terminated,_,_ = env.step(action)\n",
    "        score += reward\n",
    "        state = next_state\n",
    "    print(f'Episode: {e}\\tScore: {score}')\n",
    "\n",
    "env.close()"
   ]
  }
 ],
 "metadata": {
  "kernelspec": {
   "display_name": ".venv",
   "language": "python",
   "name": "python3"
  },
  "language_info": {
   "codemirror_mode": {
    "name": "ipython",
    "version": 3
   },
   "file_extension": ".py",
   "mimetype": "text/x-python",
   "name": "python",
   "nbconvert_exporter": "python",
   "pygments_lexer": "ipython3",
   "version": "3.10.5"
  }
 },
 "nbformat": 4,
 "nbformat_minor": 2
}
